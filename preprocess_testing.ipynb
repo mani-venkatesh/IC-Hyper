{
 "cells": [
  {
   "cell_type": "markdown",
   "metadata": {},
   "source": [
    "### Imports"
   ]
  },
  {
   "cell_type": "code",
   "execution_count": 140,
   "metadata": {},
   "outputs": [],
   "source": [
    "import wfdb\n",
    "from IPython.display import display\n",
    "import os\n",
    "import numpy as np\n",
    "import time"
   ]
  },
  {
   "cell_type": "markdown",
   "metadata": {},
   "source": [
    "### Read Records + Create Dictionary"
   ]
  },
  {
   "cell_type": "code",
   "execution_count": 141,
   "metadata": {},
   "outputs": [],
   "source": [
    "with open('database/RECORDS', 'r') as records:\n",
    "    raw_contents = records.read()\n",
    "    record_list = raw_contents.split('\\n')\n",
    "    \n",
    "patient_dict = {}\n",
    "sample_length = 60*60# seconds\n",
    "sample_frequency = 50 # hz\n",
    "for record in record_list:\n",
    "    path = 'database/' + record\n",
    "    signals, fields = wfdb.rdsamp(path, sampto=sample_length * sample_frequency)\n",
    "    temp_dict = {}\n",
    "    temp_dict['s'] = signals\n",
    "    temp_dict['f'] = fields\n",
    "    patient_dict[record] = temp_dict\n",
    "\n",
    "# wfdb.plot_wfdb(record=record)"
   ]
  },
  {
   "cell_type": "markdown",
   "metadata": {},
   "source": [
    "### Preprocessing *2022 Ye Algorithm*"
   ]
  },
  {
   "cell_type": "code",
   "execution_count": 142,
   "metadata": {},
   "outputs": [
    {
     "name": "stdout",
     "output_type": "stream",
     "text": [
      "Preprocessing step complete\n",
      "Trial length: 180000. Downsampled to: 3000\n",
      "Time elapsed: 1.0118069648742676 seconds\n"
     ]
    }
   ],
   "source": [
    "start_old = time.time()\n",
    "charis1 = patient_dict['charis1']['s']\n",
    "icp_data_old = charis1[:,2]\n",
    "\n",
    "w = 60000 # window length, 20 mins default (60000 samples)\n",
    "st = 3000 # 5% of window length - steps\n",
    "d = 60 # downsample factor \n",
    "\n",
    "i = 1 # while loop counter\n",
    "while i + w < len(icp_data_old):\n",
    "    seg = icp_data_old[i:i+w] # window segment\n",
    "\n",
    "    # Create a mask for values outside the acceptable ICP bound\n",
    "    for j in range(w):\n",
    "        if seg[j] > 50 or seg[j] < -5: \n",
    "            seg[j] = np.nan \n",
    "    m = np.nanmean(seg) # segment mean\n",
    "    s = np.nanstd(seg) # segment standard deviation\n",
    "    s_bounds = (m+3*s, m-3*s) # outlier boundaries (+/-3 times standard deviation)\n",
    "    # For loop checks if values are outside standard deviation bounds (replaced with mean of segment, if yes)\n",
    "    for k in range(w):\n",
    "        if seg[k] > s_bounds[0] or seg[k] < s_bounds[1]:\n",
    "            seg[k] = m\n",
    "    icp_data_old[i:i+w] = seg\n",
    "    i += st\n",
    "\n",
    "d_icp_data_old = icp_data_old[::d]\n",
    "end_old = time.time()\n",
    "\n",
    "print(\"Preprocessing step complete\")\n",
    "print(f\"Trial length: {len(icp_data_old)}. Downsampled to: {len(d_icp_data_old)}\")\n",
    "print(f\"Time elapsed: {end_old-start_old} seconds\")\n"
   ]
  },
  {
   "cell_type": "markdown",
   "metadata": {},
   "source": [
    "### Preprocessing *2024 Venkatesh Algorithm*"
   ]
  },
  {
   "cell_type": "code",
   "execution_count": 143,
   "metadata": {},
   "outputs": [
    {
     "name": "stdout",
     "output_type": "stream",
     "text": [
      "Preprocessing step complete\n",
      "Trial length: 180000. Downsampled to: 3000\n",
      "Time elapsed: 0.035401105880737305 seconds\n"
     ]
    }
   ],
   "source": [
    "start = time.time()\n",
    "\n",
    "charis1 = patient_dict['charis1']['s']\n",
    "icp_data = charis1[:,2]\n",
    "\n",
    "w = 60000 # window length, 20 mins default (60000 samples)\n",
    "st = 3000 # 5% of window length - steps\n",
    "d = 60 # downsample factor \n",
    "u = 50 # upper bound 50mmHg for ICP\n",
    "l = -5 # lower bound -5mmHg for ICP\n",
    "\n",
    "i = 1 # while loop counter\n",
    "while i + w < len(icp_data):\n",
    "    seg = icp_data[i:i+w] # window segment\n",
    "\n",
    "    # Create a mask for values outside the acceptable ICP bound\n",
    "    icp_mask = ((seg > 50) | (seg < -5))\n",
    "    seg[icp_mask] = np.nan\n",
    "\n",
    "    m = np.nanmean(seg) # segment mean\n",
    "    s = np.nanstd(seg) # segment standard deviation\n",
    "    s_bounds = (m+3*s, m-3*s) # outlier boundaries (+/-3 times standard deviation)\n",
    "\n",
    "    # Create a mask for values outside the std bounds\n",
    "    std_mask = ((seg > s_bounds[0]) | (seg < s_bounds[1]))\n",
    "    seg[std_mask] = m\n",
    "\n",
    "    # Create a mask to replace nan values with segment mean \n",
    "    nan_mask = (np.isnan(seg))\n",
    "    seg[nan_mask] = m\n",
    "\n",
    "    # Store modified segment back into ICP data\n",
    "    icp_data[i:i+w] = seg\n",
    "\n",
    "    # Step to next segment position\n",
    "    i += st\n",
    "\n",
    "# Downsample data by d steps\n",
    "d_icp_data = icp_data[::d]\n",
    "\n",
    "end = time.time()\n",
    "\n",
    "print(\"Preprocessing step complete\")\n",
    "print(f\"Trial length: {len(icp_data)}. Downsampled to: {len(d_icp_data)}\")\n",
    "print(f\"Time elapsed: {end-start} seconds\")\n"
   ]
  },
  {
   "cell_type": "markdown",
   "metadata": {},
   "source": [
    "#### Preprocessing performance analysis"
   ]
  },
  {
   "cell_type": "code",
   "execution_count": 144,
   "metadata": {},
   "outputs": [
    {
     "name": "stdout",
     "output_type": "stream",
     "text": [
      "Preprocessed output match: True\n",
      "The new algorithm provides an increase in efficiency by a factor of : 27.918077365678712\n"
     ]
    }
   ],
   "source": [
    "print(f\"Preprocessed output match: {np.array_equal(d_icp_data, d_icp_data_old)}\")\n",
    "print(f\"The new algorithm provides an increase in efficiency by a factor of : {1/(end-start)/(end_old-start_old)}\")"
   ]
  }
 ],
 "metadata": {
  "kernelspec": {
   "display_name": "Python 3",
   "language": "python",
   "name": "python3"
  },
  "language_info": {
   "codemirror_mode": {
    "name": "ipython",
    "version": 3
   },
   "file_extension": ".py",
   "mimetype": "text/x-python",
   "name": "python",
   "nbconvert_exporter": "python",
   "pygments_lexer": "ipython3",
   "version": "3.10.12"
  }
 },
 "nbformat": 4,
 "nbformat_minor": 2
}
